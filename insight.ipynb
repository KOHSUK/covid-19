{
 "nbformat": 4,
 "nbformat_minor": 2,
 "metadata": {
  "language_info": {
   "name": "python",
   "codemirror_mode": {
    "name": "ipython",
    "version": 3
   },
   "version": "3.7.7-final"
  },
  "orig_nbformat": 2,
  "file_extension": ".py",
  "mimetype": "text/x-python",
  "name": "python",
  "npconvert_exporter": "python",
  "pygments_lexer": "ipython3",
  "version": 3,
  "kernelspec": {
   "name": "python37764bitvenvvenv11c50b08abf94751a6258d440312b51b",
   "display_name": "Python 3.7.7 64-bit ('.venv': venv)"
  }
 },
 "cells": [
  {
   "cell_type": "markdown",
   "metadata": {},
   "source": [
    "## Download Data"
   ]
  },
  {
   "cell_type": "code",
   "execution_count": 3,
   "metadata": {},
   "outputs": [
    {
     "output_type": "display_data",
     "data": {
      "text/html": "        <script type=\"text/javascript\">\n        window.PlotlyConfig = {MathJaxConfig: 'local'};\n        if (window.MathJax) {MathJax.Hub.Config({SVG: {font: \"STIX-Web\"}});}\n        if (typeof require !== 'undefined') {\n        require.undef(\"plotly\");\n        requirejs.config({\n            paths: {\n                'plotly': ['https://cdn.plot.ly/plotly-latest.min']\n            }\n        });\n        require(['plotly'], function(Plotly) {\n            window._Plotly = Plotly;\n        });\n        }\n        </script>\n        "
     },
     "metadata": {}
    }
   ],
   "source": [
    "import pandas as pd\n",
    "\n",
    "# --- plotly ---\n",
    "from plotly import tools, subplots\n",
    "import plotly.offline as py\n",
    "py.init_notebook_mode(connected=True)\n",
    "import plotly.graph_objs as go\n",
    "import plotly.express as px\n",
    "import plotly.figure_factory as ff\n",
    "import plotly.io as pio\n",
    "pio.templates.default = \"plotly_dark\""
   ]
  },
  {
   "cell_type": "code",
   "execution_count": 4,
   "metadata": {},
   "outputs": [],
   "source": [
    "def download_data(sheet_id, page_id, path, format='csv'):\n",
    "    url = f'https://docs.google.com/spreadsheets/d/{sheet_id}/export?format={format}&gid={page_id}'\n",
    "    result = pd.read_csv(url)\n",
    "    if path:\n",
    "        result.to_csv(path)\n",
    "    return result"
   ]
  },
  {
   "cell_type": "code",
   "execution_count": 5,
   "metadata": {
    "tags": [
     "outputPrepend"
    ]
   },
   "outputs": [],
   "source": [
    "# make directorey\n",
    "os.makedirs('./datasets/signate', exist_ok=True)\n",
    "\n",
    "# 接触場所マスタ\n",
    "contact_master = download_data('1CnQOf6eN18Kw5Q6ScE_9tFoyddk4FBwFZqZpt_tMOm4', '103322372', './datasets/signate/contact_master.csv')\n",
    "\n",
    "# 罹患者トランザクション\n",
    "patients_transaction = download_data('1CnQOf6eN18Kw5Q6ScE_9tFoyddk4FBwFZqZpt_tMOm4', '400937719', './datasets/signate/patients_transaction.csv')\n",
    "\n",
    "# 罹患者関係\n",
    "patients_relationship = download_data('1CnQOf6eN18Kw5Q6ScE_9tFoyddk4FBwFZqZpt_tMOm4', '57719256', './datasets/signate/patients_relationship.csv')\n",
    "\n",
    "# 居住地マスタ\n",
    "residence_master = download_data('1CnQOf6eN18Kw5Q6ScE_9tFoyddk4FBwFZqZpt_tMOm4', '72903316', './datasets/signate/residence_master.csv')\n",
    "\n",
    "# 罹患者\n",
    "patients = download_data('1CnQOf6eN18Kw5Q6ScE_9tFoyddk4FBwFZqZpt_tMOm4', '0', './datasets/signate/patients.csv')\n",
    "\n",
    "# トランザクションマスタ\n",
    "transaction_master = download_data('1CnQOf6eN18Kw5Q6ScE_9tFoyddk4FBwFZqZpt_tMOm4', '13238635', './datasets/signate/transaction_master.csv')\n",
    "\n",
    "# 都道府県マスタ\n",
    "prefecture_master = download_data('1CnQOf6eN18Kw5Q6ScE_9tFoyddk4FBwFZqZpt_tMOm4', '1940307536', './datasets/signate/prefecture_master.csv')"
   ]
  },
  {
   "cell_type": "code",
   "execution_count": 6,
   "metadata": {},
   "outputs": [
    {
     "output_type": "execute_result",
     "data": {
      "text/plain": "  罹患者id  都道府県コード  都道府県別罹患者No  \\\n0   1-1        1           1   \n1   1-2        1           2   \n2   1-3        1           3   \n3   1-4        1           4   \n4   1-5        1           5   \n\n                                               症状・経過  \\\n0  1月21日に来日し、22日より北海道を観光。\\n1月26日 体調不良のため外出せず。夜間に咳...   \n1  1月31日 発熱、咳、倦怠感が出現。\\n2月 3日 石狩振興局管内の医療機関Aを受診。\\n2...   \n2  2月 8日 倦怠感、筋肉痛、関節痛が出現\\n2月12日 発熱、咳が出現\\n2月13日 札幌市...   \n3  2月 3日 微熱、咽頭痛。\\n2月 7日 渡島総合振興局管内の医療機関Aを受診。\\n2月13...   \n4  2月15日 悪寒、発汗、倦怠感、筋肉痛、関節痛が出現。\\n2月18日 発熱、筋肉痛、咳、痰が...   \n\n                                                 行動歴  医療従事者ﾌﾗｸﾞ  基礎疾患ﾌﾗｸﾞ  \\\n0          海外渡航歴なし。濃厚接触者は、現時点で家族、同僚等43名を特定し、健康観察実施中。        NaN       NaN   \n1                                                NaN        NaN       NaN   \n2  2月1日から2月12日までの期間、No.5の男性（2月19日感染判明）とともに、雪まつり大通...        NaN       NaN   \n3  本人からの申告によれば、海外渡航歴は無し。\\n濃厚接触者48名について保健所が健康観察を行う...        NaN       NaN   \n4  2月1日から2月12日までの期間、id:1-3の男性（2月18日感染判明）とともに、雪まつり...        NaN       NaN   \n\n          公表日  ステータス 受診都道府県  ...    職業  海外渡航歴ﾌﾗｸﾞ 海外渡航先         帰国日  \\\n0  2020/01/28    0.0    北海道  ...   NaN          1    中国  2020/01/21   \n1  2020/02/14    0.0    北海道  ...   自営業          0     -           -   \n2  2020/02/19    0.0    北海道  ...   会社員          0     -           -   \n3  2020/02/19    0.0    北海道  ...  議会議員          0     -           -   \n4  2020/02/20    0.0    北海道  ...   会社員          0     -           -   \n\n   ﾀﾞｲﾔﾓﾝﾄﾞﾌﾟﾘﾝｾｽ号乗船ﾌﾗｸﾞ                   濃厚接触者状況  \\\n0                    0.0         濃厚接触者を特定し\\n健康観察終了   \n1                    0.0                   健康観察実施中   \n2                    0.0            札幌市公表中\\nid:1-5   \n3                    0.0  濃厚接触者を特定し健康観察終了\\nid:1-12   \n4                    0.0            札幌市公表中\\nid:1-3   \n\n                                                 情報源 idチェック済ﾌﾗｸﾞ     idチェック日  \\\n0  http://www.pref.hokkaido.lg.jp/hf/kth/kak/hass...         1.0  2020/04/03   \n1  http://www.pref.hokkaido.lg.jp/hf/kth/kak/hass...         1.0  2020/04/03   \n2  http://www.pref.hokkaido.lg.jp/hf/kth/kak/hass...         1.0  2020/04/03   \n3  http://www.pref.hokkaido.lg.jp/hf/kth/kak/hass...         1.0  2020/04/03   \n4  http://www.pref.hokkaido.lg.jp/hf/kth/kak/hass...         1.0  2020/04/03   \n\n  id不備有りﾌﾗｸﾞ  \n0        0.0  \n1        0.0  \n2        0.0  \n3        0.0  \n4        0.0  \n\n[5 rows x 27 columns]",
      "text/html": "<div>\n<style scoped>\n    .dataframe tbody tr th:only-of-type {\n        vertical-align: middle;\n    }\n\n    .dataframe tbody tr th {\n        vertical-align: top;\n    }\n\n    .dataframe thead th {\n        text-align: right;\n    }\n</style>\n<table border=\"1\" class=\"dataframe\">\n  <thead>\n    <tr style=\"text-align: right;\">\n      <th></th>\n      <th>罹患者id</th>\n      <th>都道府県コード</th>\n      <th>都道府県別罹患者No</th>\n      <th>症状・経過</th>\n      <th>行動歴</th>\n      <th>医療従事者ﾌﾗｸﾞ</th>\n      <th>基礎疾患ﾌﾗｸﾞ</th>\n      <th>公表日</th>\n      <th>ステータス</th>\n      <th>受診都道府県</th>\n      <th>...</th>\n      <th>職業</th>\n      <th>海外渡航歴ﾌﾗｸﾞ</th>\n      <th>海外渡航先</th>\n      <th>帰国日</th>\n      <th>ﾀﾞｲﾔﾓﾝﾄﾞﾌﾟﾘﾝｾｽ号乗船ﾌﾗｸﾞ</th>\n      <th>濃厚接触者状況</th>\n      <th>情報源</th>\n      <th>idチェック済ﾌﾗｸﾞ</th>\n      <th>idチェック日</th>\n      <th>id不備有りﾌﾗｸﾞ</th>\n    </tr>\n  </thead>\n  <tbody>\n    <tr>\n      <th>0</th>\n      <td>1-1</td>\n      <td>1</td>\n      <td>1</td>\n      <td>1月21日に来日し、22日より北海道を観光。\\n1月26日 体調不良のため外出せず。夜間に咳...</td>\n      <td>海外渡航歴なし。濃厚接触者は、現時点で家族、同僚等43名を特定し、健康観察実施中。</td>\n      <td>NaN</td>\n      <td>NaN</td>\n      <td>2020/01/28</td>\n      <td>0.0</td>\n      <td>北海道</td>\n      <td>...</td>\n      <td>NaN</td>\n      <td>1</td>\n      <td>中国</td>\n      <td>2020/01/21</td>\n      <td>0.0</td>\n      <td>濃厚接触者を特定し\\n健康観察終了</td>\n      <td>http://www.pref.hokkaido.lg.jp/hf/kth/kak/hass...</td>\n      <td>1.0</td>\n      <td>2020/04/03</td>\n      <td>0.0</td>\n    </tr>\n    <tr>\n      <th>1</th>\n      <td>1-2</td>\n      <td>1</td>\n      <td>2</td>\n      <td>1月31日 発熱、咳、倦怠感が出現。\\n2月 3日 石狩振興局管内の医療機関Aを受診。\\n2...</td>\n      <td>NaN</td>\n      <td>NaN</td>\n      <td>NaN</td>\n      <td>2020/02/14</td>\n      <td>0.0</td>\n      <td>北海道</td>\n      <td>...</td>\n      <td>自営業</td>\n      <td>0</td>\n      <td>-</td>\n      <td>-</td>\n      <td>0.0</td>\n      <td>健康観察実施中</td>\n      <td>http://www.pref.hokkaido.lg.jp/hf/kth/kak/hass...</td>\n      <td>1.0</td>\n      <td>2020/04/03</td>\n      <td>0.0</td>\n    </tr>\n    <tr>\n      <th>2</th>\n      <td>1-3</td>\n      <td>1</td>\n      <td>3</td>\n      <td>2月 8日 倦怠感、筋肉痛、関節痛が出現\\n2月12日 発熱、咳が出現\\n2月13日 札幌市...</td>\n      <td>2月1日から2月12日までの期間、No.5の男性（2月19日感染判明）とともに、雪まつり大通...</td>\n      <td>NaN</td>\n      <td>NaN</td>\n      <td>2020/02/19</td>\n      <td>0.0</td>\n      <td>北海道</td>\n      <td>...</td>\n      <td>会社員</td>\n      <td>0</td>\n      <td>-</td>\n      <td>-</td>\n      <td>0.0</td>\n      <td>札幌市公表中\\nid:1-5</td>\n      <td>http://www.pref.hokkaido.lg.jp/hf/kth/kak/hass...</td>\n      <td>1.0</td>\n      <td>2020/04/03</td>\n      <td>0.0</td>\n    </tr>\n    <tr>\n      <th>3</th>\n      <td>1-4</td>\n      <td>1</td>\n      <td>4</td>\n      <td>2月 3日 微熱、咽頭痛。\\n2月 7日 渡島総合振興局管内の医療機関Aを受診。\\n2月13...</td>\n      <td>本人からの申告によれば、海外渡航歴は無し。\\n濃厚接触者48名について保健所が健康観察を行う...</td>\n      <td>NaN</td>\n      <td>NaN</td>\n      <td>2020/02/19</td>\n      <td>0.0</td>\n      <td>北海道</td>\n      <td>...</td>\n      <td>議会議員</td>\n      <td>0</td>\n      <td>-</td>\n      <td>-</td>\n      <td>0.0</td>\n      <td>濃厚接触者を特定し健康観察終了\\nid:1-12</td>\n      <td>http://www.pref.hokkaido.lg.jp/hf/kth/kak/hass...</td>\n      <td>1.0</td>\n      <td>2020/04/03</td>\n      <td>0.0</td>\n    </tr>\n    <tr>\n      <th>4</th>\n      <td>1-5</td>\n      <td>1</td>\n      <td>5</td>\n      <td>2月15日 悪寒、発汗、倦怠感、筋肉痛、関節痛が出現。\\n2月18日 発熱、筋肉痛、咳、痰が...</td>\n      <td>2月1日から2月12日までの期間、id:1-3の男性（2月18日感染判明）とともに、雪まつり...</td>\n      <td>NaN</td>\n      <td>NaN</td>\n      <td>2020/02/20</td>\n      <td>0.0</td>\n      <td>北海道</td>\n      <td>...</td>\n      <td>会社員</td>\n      <td>0</td>\n      <td>-</td>\n      <td>-</td>\n      <td>0.0</td>\n      <td>札幌市公表中\\nid:1-3</td>\n      <td>http://www.pref.hokkaido.lg.jp/hf/kth/kak/hass...</td>\n      <td>1.0</td>\n      <td>2020/04/03</td>\n      <td>0.0</td>\n    </tr>\n  </tbody>\n</table>\n<p>5 rows × 27 columns</p>\n</div>"
     },
     "metadata": {},
     "execution_count": 6
    }
   ],
   "source": [
    "patients.head()"
   ]
  },
  {
   "cell_type": "code",
   "execution_count": 7,
   "metadata": {},
   "outputs": [
    {
     "output_type": "execute_result",
     "data": {
      "text/plain": "Index(['罹患者id', '都道府県コード', '都道府県別罹患者No', '症状・経過', '行動歴', '医療従事者ﾌﾗｸﾞ',\n       '基礎疾患ﾌﾗｸﾞ', '公表日', 'ステータス', '受診都道府県', '受診都道府県緯度', '受診都道府県経度', '居住地',\n       '居住地緯度', '居住地経度', '年代', '性別', '職業', '海外渡航歴ﾌﾗｸﾞ', '海外渡航先', '帰国日',\n       'ﾀﾞｲﾔﾓﾝﾄﾞﾌﾟﾘﾝｾｽ号乗船ﾌﾗｸﾞ', '濃厚接触者状況', '情報源', 'idチェック済ﾌﾗｸﾞ', 'idチェック日',\n       'id不備有りﾌﾗｸﾞ'],\n      dtype='object')"
     },
     "metadata": {},
     "execution_count": 7
    }
   ],
   "source": [
    "patients.columns"
   ]
  },
  {
   "cell_type": "code",
   "execution_count": 8,
   "metadata": {},
   "outputs": [],
   "source": [
    "# rename column name\n",
    "target_columns = {'罹患者id': 'patient_id', '都道府県コード': 'prefecture_code', '都道府県別罹患者No': 'patient_no_by_prefecture', '症状・経過': 'symptom', '行動歴': 'behavior_history', '医療従事者ﾌﾗｸﾞ': 'medical_worker_flag', '基礎疾患ﾌﾗｸﾞ': 'underlying_disease', '公表日': 'publication_date', 'ステータス': 'status', '受診都道府県': 'prefecture_received_medical_examination', '受診都道府県緯度': 'exam_latitude', '受診都道府県経度': 'exam_longtitude', '居住地': 'residence', '居住地緯度': 'residence_latitude', '居住地経度': 'residence_longtitude', '年代': 'age', '性別' :'sex', '職業': 'occupation', '海外渡航歴ﾌﾗｸﾞ': 'travelling_overseas', '海外渡航先': 'destination', '帰国日': 'return_date','ﾀﾞｲﾔﾓﾝﾄﾞﾌﾟﾘﾝｾｽ号乗船ﾌﾗｸﾞ': 'diamond_princess_flag', '濃厚接触者状況': 'situation_of_close_contact', '情報源': 'source_of_info', 'idチェック済ﾌﾗｸﾞ': 'id_checked', 'idチェック日': 'date_of_checking_id', 'id不備有りﾌﾗｸﾞ': 'defected_id_flag'}\n",
    "patients_renamed = patients.rename(columns=target_columns)"
   ]
  },
  {
   "cell_type": "code",
   "execution_count": 10,
   "metadata": {},
   "outputs": [
    {
     "output_type": "execute_result",
     "data": {
      "text/plain": "  patient_id  prefecture_code  patient_no_by_prefecture  \\\n0        1-1                1                         1   \n1        1-2                1                         2   \n2        1-3                1                         3   \n3        1-4                1                         4   \n4        1-5                1                         5   \n\n                                             symptom  \\\n0  1月21日に来日し、22日より北海道を観光。\\n1月26日 体調不良のため外出せず。夜間に咳...   \n1  1月31日 発熱、咳、倦怠感が出現。\\n2月 3日 石狩振興局管内の医療機関Aを受診。\\n2...   \n2  2月 8日 倦怠感、筋肉痛、関節痛が出現\\n2月12日 発熱、咳が出現\\n2月13日 札幌市...   \n3  2月 3日 微熱、咽頭痛。\\n2月 7日 渡島総合振興局管内の医療機関Aを受診。\\n2月13...   \n4  2月15日 悪寒、発汗、倦怠感、筋肉痛、関節痛が出現。\\n2月18日 発熱、筋肉痛、咳、痰が...   \n\n                                    behavior_history  medical_worker_flag  \\\n0          海外渡航歴なし。濃厚接触者は、現時点で家族、同僚等43名を特定し、健康観察実施中。                  NaN   \n1                                                NaN                  NaN   \n2  2月1日から2月12日までの期間、No.5の男性（2月19日感染判明）とともに、雪まつり大通...                  NaN   \n3  本人からの申告によれば、海外渡航歴は無し。\\n濃厚接触者48名について保健所が健康観察を行う...                  NaN   \n4  2月1日から2月12日までの期間、id:1-3の男性（2月18日感染判明）とともに、雪まつり...                  NaN   \n\n   underlying_disease publication_date  status  \\\n0                 NaN       2020/01/28     0.0   \n1                 NaN       2020/02/14     0.0   \n2                 NaN       2020/02/19     0.0   \n3                 NaN       2020/02/19     0.0   \n4                 NaN       2020/02/20     0.0   \n\n  prefecture_received_medical_examination  ...  occupation  \\\n0                                     北海道  ...         NaN   \n1                                     北海道  ...         自営業   \n2                                     北海道  ...         会社員   \n3                                     北海道  ...        議会議員   \n4                                     北海道  ...         会社員   \n\n   travelling_overseas destination  return_date  diamond_princess_flag  \\\n0                    1          中国   2020/01/21                    0.0   \n1                    0           -            -                    0.0   \n2                    0           -            -                    0.0   \n3                    0           -            -                    0.0   \n4                    0           -            -                    0.0   \n\n  situation_of_close_contact  \\\n0          濃厚接触者を特定し\\n健康観察終了   \n1                    健康観察実施中   \n2             札幌市公表中\\nid:1-5   \n3   濃厚接触者を特定し健康観察終了\\nid:1-12   \n4             札幌市公表中\\nid:1-3   \n\n                                      source_of_info id_checked  \\\n0  http://www.pref.hokkaido.lg.jp/hf/kth/kak/hass...        1.0   \n1  http://www.pref.hokkaido.lg.jp/hf/kth/kak/hass...        1.0   \n2  http://www.pref.hokkaido.lg.jp/hf/kth/kak/hass...        1.0   \n3  http://www.pref.hokkaido.lg.jp/hf/kth/kak/hass...        1.0   \n4  http://www.pref.hokkaido.lg.jp/hf/kth/kak/hass...        1.0   \n\n  date_of_checking_id defected_id_flag  \n0          2020/04/03              0.0  \n1          2020/04/03              0.0  \n2          2020/04/03              0.0  \n3          2020/04/03              0.0  \n4          2020/04/03              0.0  \n\n[5 rows x 27 columns]",
      "text/html": "<div>\n<style scoped>\n    .dataframe tbody tr th:only-of-type {\n        vertical-align: middle;\n    }\n\n    .dataframe tbody tr th {\n        vertical-align: top;\n    }\n\n    .dataframe thead th {\n        text-align: right;\n    }\n</style>\n<table border=\"1\" class=\"dataframe\">\n  <thead>\n    <tr style=\"text-align: right;\">\n      <th></th>\n      <th>patient_id</th>\n      <th>prefecture_code</th>\n      <th>patient_no_by_prefecture</th>\n      <th>symptom</th>\n      <th>behavior_history</th>\n      <th>medical_worker_flag</th>\n      <th>underlying_disease</th>\n      <th>publication_date</th>\n      <th>status</th>\n      <th>prefecture_received_medical_examination</th>\n      <th>...</th>\n      <th>occupation</th>\n      <th>travelling_overseas</th>\n      <th>destination</th>\n      <th>return_date</th>\n      <th>diamond_princess_flag</th>\n      <th>situation_of_close_contact</th>\n      <th>source_of_info</th>\n      <th>id_checked</th>\n      <th>date_of_checking_id</th>\n      <th>defected_id_flag</th>\n    </tr>\n  </thead>\n  <tbody>\n    <tr>\n      <th>0</th>\n      <td>1-1</td>\n      <td>1</td>\n      <td>1</td>\n      <td>1月21日に来日し、22日より北海道を観光。\\n1月26日 体調不良のため外出せず。夜間に咳...</td>\n      <td>海外渡航歴なし。濃厚接触者は、現時点で家族、同僚等43名を特定し、健康観察実施中。</td>\n      <td>NaN</td>\n      <td>NaN</td>\n      <td>2020/01/28</td>\n      <td>0.0</td>\n      <td>北海道</td>\n      <td>...</td>\n      <td>NaN</td>\n      <td>1</td>\n      <td>中国</td>\n      <td>2020/01/21</td>\n      <td>0.0</td>\n      <td>濃厚接触者を特定し\\n健康観察終了</td>\n      <td>http://www.pref.hokkaido.lg.jp/hf/kth/kak/hass...</td>\n      <td>1.0</td>\n      <td>2020/04/03</td>\n      <td>0.0</td>\n    </tr>\n    <tr>\n      <th>1</th>\n      <td>1-2</td>\n      <td>1</td>\n      <td>2</td>\n      <td>1月31日 発熱、咳、倦怠感が出現。\\n2月 3日 石狩振興局管内の医療機関Aを受診。\\n2...</td>\n      <td>NaN</td>\n      <td>NaN</td>\n      <td>NaN</td>\n      <td>2020/02/14</td>\n      <td>0.0</td>\n      <td>北海道</td>\n      <td>...</td>\n      <td>自営業</td>\n      <td>0</td>\n      <td>-</td>\n      <td>-</td>\n      <td>0.0</td>\n      <td>健康観察実施中</td>\n      <td>http://www.pref.hokkaido.lg.jp/hf/kth/kak/hass...</td>\n      <td>1.0</td>\n      <td>2020/04/03</td>\n      <td>0.0</td>\n    </tr>\n    <tr>\n      <th>2</th>\n      <td>1-3</td>\n      <td>1</td>\n      <td>3</td>\n      <td>2月 8日 倦怠感、筋肉痛、関節痛が出現\\n2月12日 発熱、咳が出現\\n2月13日 札幌市...</td>\n      <td>2月1日から2月12日までの期間、No.5の男性（2月19日感染判明）とともに、雪まつり大通...</td>\n      <td>NaN</td>\n      <td>NaN</td>\n      <td>2020/02/19</td>\n      <td>0.0</td>\n      <td>北海道</td>\n      <td>...</td>\n      <td>会社員</td>\n      <td>0</td>\n      <td>-</td>\n      <td>-</td>\n      <td>0.0</td>\n      <td>札幌市公表中\\nid:1-5</td>\n      <td>http://www.pref.hokkaido.lg.jp/hf/kth/kak/hass...</td>\n      <td>1.0</td>\n      <td>2020/04/03</td>\n      <td>0.0</td>\n    </tr>\n    <tr>\n      <th>3</th>\n      <td>1-4</td>\n      <td>1</td>\n      <td>4</td>\n      <td>2月 3日 微熱、咽頭痛。\\n2月 7日 渡島総合振興局管内の医療機関Aを受診。\\n2月13...</td>\n      <td>本人からの申告によれば、海外渡航歴は無し。\\n濃厚接触者48名について保健所が健康観察を行う...</td>\n      <td>NaN</td>\n      <td>NaN</td>\n      <td>2020/02/19</td>\n      <td>0.0</td>\n      <td>北海道</td>\n      <td>...</td>\n      <td>議会議員</td>\n      <td>0</td>\n      <td>-</td>\n      <td>-</td>\n      <td>0.0</td>\n      <td>濃厚接触者を特定し健康観察終了\\nid:1-12</td>\n      <td>http://www.pref.hokkaido.lg.jp/hf/kth/kak/hass...</td>\n      <td>1.0</td>\n      <td>2020/04/03</td>\n      <td>0.0</td>\n    </tr>\n    <tr>\n      <th>4</th>\n      <td>1-5</td>\n      <td>1</td>\n      <td>5</td>\n      <td>2月15日 悪寒、発汗、倦怠感、筋肉痛、関節痛が出現。\\n2月18日 発熱、筋肉痛、咳、痰が...</td>\n      <td>2月1日から2月12日までの期間、id:1-3の男性（2月18日感染判明）とともに、雪まつり...</td>\n      <td>NaN</td>\n      <td>NaN</td>\n      <td>2020/02/20</td>\n      <td>0.0</td>\n      <td>北海道</td>\n      <td>...</td>\n      <td>会社員</td>\n      <td>0</td>\n      <td>-</td>\n      <td>-</td>\n      <td>0.0</td>\n      <td>札幌市公表中\\nid:1-3</td>\n      <td>http://www.pref.hokkaido.lg.jp/hf/kth/kak/hass...</td>\n      <td>1.0</td>\n      <td>2020/04/03</td>\n      <td>0.0</td>\n    </tr>\n  </tbody>\n</table>\n<p>5 rows × 27 columns</p>\n</div>"
     },
     "metadata": {},
     "execution_count": 10
    }
   ],
   "source": [
    "patients_renamed.head()"
   ]
  },
  {
   "cell_type": "code",
   "execution_count": null,
   "metadata": {},
   "outputs": [],
   "source": []
  }
 ]
}